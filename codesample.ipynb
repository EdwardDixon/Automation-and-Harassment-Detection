{
 "cells": [
  {
   "cell_type": "markdown",
   "metadata": {},
   "source": [
    "# Automation and Harassment Detection\n",
    "### A code companion for book chapter of the same name\n",
    "\n",
    "What features of the data could we use to classify comments?  Human languages have typically have large vocabularies in which most words are rare (usage tends to follow the Zipf distribution); we want words that are reasonably specific to harassment but also as common as possible.  The $ \\chi^{2} $ test - `sklearn.feature_selection.chi2` - is a really useful statistical test which we can use to search for tokens whose distribution varies between the classes."
   ]
  },
  {
   "cell_type": "code",
   "execution_count": 18,
   "metadata": {},
   "outputs": [
    {
     "data": {
      "text/plain": [
       "('loser',\n",
       " 'section',\n",
       " 'ur',\n",
       " 'bullshit',\n",
       " 'bastard',\n",
       " 'penis',\n",
       " 'people',\n",
       " 'attacks',\n",
       " 'fag',\n",
       " 'dumb',\n",
       " 'troll',\n",
       " 'die',\n",
       " 'continue',\n",
       " 'pathetic',\n",
       " 'don',\n",
       " 'warning',\n",
       " 'shut',\n",
       " 'moron',\n",
       " 'kill',\n",
       " 'image',\n",
       " 'welcome',\n",
       " 'cock',\n",
       " 'racist',\n",
       " 'crap',\n",
       " 'article')"
      ]
     },
     "execution_count": 18,
     "metadata": {},
     "output_type": "execute_result"
    }
   ],
   "source": [
    "%matplotlib inline\n",
    "\n",
    "import matplotlib\n",
    "import numpy as np\n",
    "import matplotlib.pyplot as plt\n",
    "from sklearn.feature_extraction.text import CountVectorizer\n",
    "from sklearn.feature_extraction.text import TfidfTransformer\n",
    "import pandas as pd\n",
    "from sklearn.feature_selection import chi2\n",
    "\n",
    "\n",
    "file_name = \"../data/attack_train.csv\"\n",
    "\n",
    "raw_samples = pd.read_csv(file_name)\n",
    "vectorizer = CountVectorizer(lowercase=True,stop_words='english')\n",
    "X_counts = vectorizer.fit_transform(raw_samples[\"comment\"])\n",
    "\n",
    "# We need to be able to lookup counts for a given word.  We'll make a dictionary to help with that\n",
    "word_to_feature_index = dict(zip(vectorizer.get_feature_names(), range(0, len(vectorizer.get_feature_names()))))\n",
    "\n",
    "tfidf_transformer = TfidfTransformer()\n",
    "X_tfidf = tfidf_transformer.fit_transform(X_counts)\n",
    "X = X_tfidf\n",
    "chi2score = chi2(X,(raw_samples[\"attack\"] > 0).astype(bool)) [0]\n",
    "\n",
    "wscores = zip(vectorizer.get_feature_names(),chi2score)\n",
    "wchi2 = sorted(wscores,key=lambda x:x[1]) \n",
    "topchi2 = zip(*wchi2[-50:-25])\n",
    "list(topchi2)[0]"
   ]
  },
  {
   "cell_type": "code",
   "execution_count": 20,
   "metadata": {},
   "outputs": [
    {
     "name": "stdout",
     "output_type": "stream",
     "text": [
      "    Attack Comments  Benign Comments       Word\n",
      "0               350              780   personal\n",
      "1               454              558      block\n",
      "2                83              111  vandalize\n",
      "3               575              498       life\n",
      "4               234              294     attack\n",
      "5               227             2763     thanks\n",
      "6               250               84       hate\n",
      "7               223                1     faggot\n",
      "8               311              559  vandalism\n",
      "9               310               79       hell\n",
      "10              303               20       dick\n",
      "11              262                1       cunt\n",
      "12              420              699    blocked\n",
      "13              355                6      idiot\n",
      "14              326                1    asshole\n",
      "15              308               39        gay\n",
      "16               13              791   redirect\n",
      "17              373                5       suck\n",
      "18              401                1      bitch\n",
      "19              514               10        ass\n",
      "20              568               35     stupid\n",
      "21              734               11       shit\n",
      "22              834              566       stop\n",
      "23              977                4    fucking\n",
      "24             1458                4       fuck\n",
      "25              148                5      loser\n",
      "26              161                4   bullshit\n",
      "27               98                5      penis\n",
      "28              111                0        fag\n",
      "29              149                9       dumb\n",
      "30              114               34      troll\n",
      "31              185               61        die\n",
      "32              187               18   pathetic\n",
      "33              183               27       shut\n",
      "34              158                3      moron\n",
      "35              177               44       kill\n",
      "36              171                1       cock\n",
      "37              165               51     racist\n",
      "38              189               28       crap\n",
      "There were 36647 very benign comments and 10201 attacking comments\n"
     ]
    }
   ],
   "source": [
    "attack = np.asarray(raw_samples['attack'])\n",
    "#np.sum(X[attack <0.1,moron_i] > 0)\n",
    "\n",
    "word_list = ['personal','block','vandalize','life','attack','thanks','hate','faggot','vandalism','hell','dick','cunt','blocked','idiot', 'asshole','gay','redirect','suck','bitch','ass','stupid','shit','stop','fucking','fuck']\n",
    "word_list.extend(['loser', 'bullshit','penis', 'fag','dumb','troll','die','pathetic','shut','moron','kill','cock','racist','crap'])\n",
    "\n",
    "benign_score = []\n",
    "attack_score = []\n",
    "for word in word_list:\n",
    "    word_index = word_to_feature_index[word]\n",
    "    benign_count = np.sum(X[attack <0.1,word_index] > 0)\n",
    "    attacking_count = np.sum(X[attack > 0.4,word_index] > 0)\n",
    "    benign_score.append(benign_count)\n",
    "    attack_score.append(attacking_count)\n",
    "    #print(word + \" was in \" + str(benign_count) + \" benign comments and \" + str(attacking_count) + \" attacking comments.\")\n",
    "    \n",
    "\n",
    "d = {\"Word\": word_list, \"Benign Comments\": benign_score, \"Attack Comments\": attack_score}    \n",
    "df_word_counts = pd.DataFrame(d)\n",
    "df_word_counts.to_csv(\"attacking_word_counts.csv\")\n",
    "print(df_word_counts)\n",
    "print(\"There were \" + str(np.sum(attack < 0.1)) + \" very benign comments and \" + str(np.sum(attack > 0.4)) + \" attacking comments\")    "
   ]
  },
  {
   "cell_type": "code",
   "execution_count": 21,
   "metadata": {},
   "outputs": [],
   "source": [
    "insults = [\"faggot\",\"dick\",\"cunt\",\"idiot\",\"asshole\",\"gay\",\"suck\",\"bitch\",\"ass\",\"stupid\",\"shit\",\"fucking\",\"fuck\"]\n",
    "insults.extend(['loser', 'bullshit','penis', 'fag','dumb','troll','die','pathetic','shut','moron','kill','cock','racist','crap'])\n",
    "scores = []\n",
    "for i in range(0, X.shape[0]):\n",
    "    score = 0\n",
    "    for token in insults:\n",
    "        token_index = word_to_feature_index[token]\n",
    "        if X[i, token_index] != 0:\n",
    "            score = score + 1\n",
    "            \n",
    "    scores.append(score)\n",
    "    \n",
    "d = {\"scores\": scores, \"attack\":raw_samples[\"attack\"]}\n",
    "df = pd.DataFrame(d)"
   ]
  },
  {
   "cell_type": "code",
   "execution_count": 22,
   "metadata": {},
   "outputs": [
    {
     "data": {
      "text/plain": [
       "Text(0.5,0,'Insult count')"
      ]
     },
     "execution_count": 22,
     "metadata": {},
     "output_type": "execute_result"
    },
    {
     "data": {
      "image/png": "[encoded data removed]",
      "text/plain": [
       "<matplotlib.figure.Figure at 0x7f254278e160>"
      ]
     },
     "metadata": {},
     "output_type": "display_data"
    }
   ],
   "source": [
    "fig = plt.hexbin(df[\"scores\"], df[\"attack\"], gridsize=10, bins='log')\n",
    "plt.ylabel(\"Attack score\")\n",
    "plt.xlabel(\"Insult count\")"
   ]
  },
  {
   "cell_type": "code",
   "execution_count": 23,
   "metadata": {},
   "outputs": [
    {
     "data": {
      "text/plain": [
       "Text(0.5,1,'Scores for comments with attack score > 0.4')"
      ]
     },
     "execution_count": 23,
     "metadata": {},
     "output_type": "execute_result"
    },
    {
     "data": {
      "image/png": "[encoded data removed]",
      "text/plain": [
       "<matplotlib.figure.Figure at 0x7f25427a6438>"
      ]
     },
     "metadata": {},
     "output_type": "display_data"
    }
   ],
   "source": [
    "plt.hist(df[df[\"attack\"] > 0.4][\"scores\"])\n",
    "plt.ylabel(\"Comments\")\n",
    "plt.xlabel(\"Score\")\n",
    "plt.title(\"Scores for comments with attack score > 0.4\")"
   ]
  },
  {
   "cell_type": "code",
   "execution_count": 24,
   "metadata": {},
   "outputs": [
    {
     "name": "stdout",
     "output_type": "stream",
     "text": [
      "Attacks caught: 5532\n",
      "Total comments with attack > 0.4: 10201\n",
      "Recall: 0.5422997745319086\n"
     ]
    }
   ],
   "source": [
    "df_attack = df[df[\"attack\"] > 0.4] \n",
    "df_detected = df_attack[df_attack[\"scores\"] > 0]\n",
    "true_positive = df_detected.shape[0]\n",
    "attack_count = df_attack.shape[0]\n",
    "print(\"Attacks caught: \" + str(true_positive))\n",
    "print(\"Total comments with attack > 0.4: \" + str(attack_count))\n",
    "print(\"Recall: \" + str(true_positive / attack_count))"
   ]
  },
  {
   "cell_type": "code",
   "execution_count": 25,
   "metadata": {},
   "outputs": [
    {
     "name": "stdout",
     "output_type": "stream",
     "text": [
      "Benign comments flagged: 402\n",
      "Total benign comments with attack < 0.1: 36647\n",
      "False positive rate: 0.005782009607916463\n"
     ]
    }
   ],
   "source": [
    "df_benign = df[df[\"attack\"] < 0.1] \n",
    "df_detected = df_benign[df_benign[\"scores\"] > 0]\n",
    "false_positive = df_detected.shape[0]\n",
    "benign_count = df_benign.shape[0]\n",
    "print(\"Benign comments flagged: \" + str(false_positive))\n",
    "print(\"Total benign comments with attack < 0.1: \" + str(benign_count))\n",
    "print(\"False positive rate: \" + str(false_positive / df.shape[0]))"
   ]
  },
  {
   "cell_type": "code",
   "execution_count": 26,
   "metadata": {},
   "outputs": [
    {
     "data": {
      "text/plain": [
       "(array([36647., 11863.,  7939.,  1522.,  2225.,  2762.,  1457.,   661.,\n",
       "         1509.,  2941.]),\n",
       " array([0. , 0.1, 0.2, 0.3, 0.4, 0.5, 0.6, 0.7, 0.8, 0.9, 1. ]),\n",
       " <a list of 10 Patch objects>)"
      ]
     },
     "execution_count": 26,
     "metadata": {},
     "output_type": "execute_result"
    },
    {
     "data": {
      "image/png": "[encoded data removed]",
      "text/plain": [
       "<matplotlib.figure.Figure at 0x7f2542728e10>"
      ]
     },
     "metadata": {},
     "output_type": "display_data"
    }
   ],
   "source": [
    "plt.hist(raw_samples[\"attack\"])\n"
   ]
  },
  {
   "cell_type": "code",
   "execution_count": 27,
   "metadata": {},
   "outputs": [
    {
     "data": {
      "text/plain": [
       "(69526, 115605)"
      ]
     },
     "execution_count": 27,
     "metadata": {},
     "output_type": "execute_result"
    }
   ],
   "source": [
    "very_nice = raw_samples[\"attack\"] < 0.1\n",
    "horrid = raw_samples[\"attack\"] > 0.4\n",
    "X.shape"
   ]
  },
  {
   "cell_type": "code",
   "execution_count": 28,
   "metadata": {},
   "outputs": [
    {
     "data": {
      "text/plain": [
       "['  Iraq is not good  ===  ===  USA is bad   ',\n",
       " '  ____ fuck off you little asshole. If you want to talk to me as a human start showing some fear the way humans act around other humans, because if you continue your beligerant campaign, i will cross another boundary and begin off-site recruitmehnt.   I can escalate till I am rhetorically nuclear with the whole goddamed mob of you if that is where you think you will find what you want.   You had better start expressing some interest in the concerns presented to you or your credibility as either a document or a community will be about that of a pile of shit.',\n",
       " 'i have a dick, its bigger than yours! hahaha',\n",
       " \"  :get the damn chronology correct.  I don't think your tone is appropriate, and I do not appreciate it.  \",\n",
       " '  == renault ==  you sad little bpy for driving a renault clio which has no vaa voom so there and the mcflurry is made of shit']"
      ]
     },
     "execution_count": 28,
     "metadata": {},
     "output_type": "execute_result"
    }
   ],
   "source": [
    "raw_samples[horrid][[\"comment\", \"attack\"]].head()\n",
    "\n",
    "most_horrid = raw_samples[horrid][[\"comment\"]].iloc[:5]\n",
    "most_horrid['comment'].tolist()"
   ]
  },
  {
   "cell_type": "code",
   "execution_count": 29,
   "metadata": {},
   "outputs": [
    {
     "data": {
      "text/plain": [
       "['\"- This is not \"\"creative\"\".  Those are the dictionary definitions of the terms \"\"insurance\"\" and \"\"ensurance\"\" as properly applied to \"\"destruction\"\".  If you don\\'t understand that, fine, legitimate criticism, I\\'ll write up \"\"three man cell\"\" and \"\"bounty hunter\"\" and then it will be easy to understand why \"\"ensured\"\" and \"\"insured\"\" are different - and why both differ from \"\"assured\"\".  The sentence you quote is absolutely neutral.  You just aren\\'t familiar with the underlying theory of strike-back (e.g. submarines as employed in nuclear warfare) guiding the insurance, nor likely the three man cell structure that kept the IRA from being broken by the British.  If that\\'s my fault, fine, I can fix that to explain.  But ther\\'es nothing \"\"personal\"\" or \"\"creative\"\" about it.  I\\'m tired of arguing with you.  Re: the other article, \"\"multi-party\"\" turns up plenty, and there is more use of \"\"mutually\"\" than \"\"mutual\"\".  If I were to apply your standard I\\'d be moving \"\"Mutual Assured Destruction\"\" to \"\"talk\"\" for not appealing to a Reagan voter\\'s biases about its effectiveness, and for dropping the \"\"ly\"\".  There is a double standard in your edits.  If it comes from some US history book, like \"\"peace movement\"\" or \\'M.A.D.\\' as defined in 1950, you like it, even if the definition is totally useless in 2002 and only of historical interest.    If it makes any even-obvious connection or implication from the language chosen in multiple profession-specific terms, you consider it somehow non-neutral...  Gandhi thinks \"\"eye for an eye\"\" describes riots, death penalty, and war all at once, but you don\\'t.  What do you know that Gandhi doesn\\'t?  Guess what:  reality is not neutral.  Current use of terms is slightly more controversial.  Neutrality requires negotiation, and some willingness to learn.  This is your problem not mine.  You may dislike the writing, fine, that can be fixed.  But disregarding fundamental axioms of philosphy with names that recur in multiple phrases, or failing to make critical distinctions like \\'insurance\\' versus \\'assurance\\' versus \\'ensurance\\' (which are made in one quote by an Air Force general in an in-context quote), is just a disservice to the reader.  If someone comes here to research a topic like MAD, they want some context, beyond history.  If this is a history book, fine, it\\'s a history book.  But that wasn\\'t what it was claimed to be... \"',\n",
       " '\"  :: the term \"\"standard model\"\" is itself less NPOV than I think we\\'d prefer...  :: if it\\'s \"\"new-age speak\"\" then a lot of old-age people speak it - Karl Popper, the Pope, etc.  here\\'s Karl Popper\\'s view of this.  :: The clearest title for this article would be \"\"particle physics cosmology\"\" - but as I say that would require broader treatment of issues like the Anthropic Principle, cognitive bias beyond the particle physics zoo, etc.  :: as to accelerators, it\\'s clear that while they are in use, someone is still looking for particles.  So this is not yet a settled \"\"cosmology\"\" so certain that we abandon the search... nor is it an arbitrary foundation ontology as you suggest, not subject to question.\"',\n",
       " \"  True or false, the situation as of March 2002 was such:  A Saudi proposal of Land for Peace AND recognition by ALL arab countries was made. The day the proposal was to be made formal by the Arab League was the day the Israeli's under the command of Ariel Sharon began the invasion of the Palestinian self-rule areas. user:Arab.\",\n",
       " 'This page will need disambiguation. ',\n",
       " ' -  Important note for all sysops: There is a bug in the administrative move feature that truncates the moved history and changes the edit times.  Please do not use this feature until this bug is fixed. More information can be found in the talk of  and . Thank you. ']"
      ]
     },
     "execution_count": 29,
     "metadata": {},
     "output_type": "execute_result"
    }
   ],
   "source": [
    "raw_samples[very_nice][[\"comment\"]].head()\n",
    "nicest = raw_samples[very_nice][[\"comment\"]].iloc[:5]\n",
    "nicest['comment'].tolist()"
   ]
  },
  {
   "cell_type": "code",
   "execution_count": null,
   "metadata": {},
   "outputs": [],
   "source": []
  },
  {
   "cell_type": "code",
   "execution_count": 30,
   "metadata": {},
   "outputs": [
    {
     "data": {
      "image/png": "[encoded data removed]",
      "text/plain": [
       "<matplotlib.figure.Figure at 0x7f2542af58d0>"
      ]
     },
     "metadata": {},
     "output_type": "display_data"
    },
    {
     "data": {
      "text/plain": [
       "10201"
      ]
     },
     "execution_count": 30,
     "metadata": {},
     "output_type": "execute_result"
    }
   ],
   "source": [
    "nicest = raw_samples[very_nice][[\"comment\", \"attack\"]].index\n",
    "horridest = raw_samples[horrid][[\"comment\", \"attack\"]].index\n",
    "\n",
    "moron_i = word_to_feature_index['moron']\n",
    "\n",
    "x = np.asarray(X[nicest,0].todense()).tolist()\n",
    "y = np.asarray(X[nicest,1].todense()).tolist()\n",
    "\n",
    "ax = plt.subplot()\n",
    "ax.scatter(x, y, marker='^', color=(0,1,0,0.05), s=10)\n",
    "ax.set_xlim(0, 4)\n",
    "ax.set_ylim(0, 8)\n",
    "#plt.hexbin(x,y,bins='log', gridsize=10)\n",
    "\n",
    "x = np.asarray(X[horridest,0].todense()).tolist()\n",
    "y = np.asarray(X[horridest,1].todense()).tolist()\n",
    "ax.scatter(x, y,marker='o', color=(1,0,0,0.1))\n",
    "# Show the boundary between the regions:\n",
    "#plt.hexbin(x,y,bins='log')\n",
    "\n",
    "plt.show()\n",
    "len(x)"
   ]
  },
  {
   "cell_type": "code",
   "execution_count": 31,
   "metadata": {},
   "outputs": [
    {
     "data": {
      "image/png": "[encoded data removed]",
      "text/plain": [
       "<matplotlib.figure.Figure at 0x7f2542aff3c8>"
      ]
     },
     "metadata": {},
     "output_type": "display_data"
    }
   ],
   "source": [
    "fig, axs = plt.subplots(ncols=2, sharey=True, figsize=(7, 4))\n",
    "fig.subplots_adjust(hspace=0.5, left=0.07, right=0.93)\n",
    "ax = axs[0]\n",
    "\n",
    "x = np.asarray(X[nicest,0].todense()).tolist()\n",
    "y = np.asarray(X[nicest,1].todense()).tolist()\n",
    "\n",
    "hb = ax.hexbin(x, y, gridsize=10, bins='log',cmap='inferno')\n",
    "ax.set_title(\"Nicest comments\")\n",
    "cb = fig.colorbar(hb, ax=ax)\n",
    "cb.set_label('counts')\n",
    "\n",
    "ax = axs[1]\n",
    "\n",
    "x = np.asarray(X[horridest,0].todense()).tolist()\n",
    "y = np.asarray(X[horridest,1].todense()).tolist()\n",
    "\n",
    "hb = ax.hexbin(x, y, gridsize=10, bins='log', cmap='inferno')\n",
    "ax.set_title(\"Attacking comments\")\n",
    "cb = fig.colorbar(hb, ax=ax)\n",
    "cb.set_label('counts')\n",
    "\n",
    "plt.show()"
   ]
  },
  {
   "cell_type": "code",
   "execution_count": 32,
   "metadata": {},
   "outputs": [],
   "source": [
    "moron_i = word_to_feature_index['moron']"
   ]
  },
  {
   "cell_type": "markdown",
   "metadata": {},
   "source": [
    "# Classifiers!\n",
    "Let's use tf-idf to build our first classifier!  First, we'll remind ourselves of what the data looks like..."
   ]
  },
  {
   "cell_type": "code",
   "execution_count": 33,
   "metadata": {},
   "outputs": [
    {
     "data": {
      "text/html": [
       "<div>\n",
       "<style scoped>\n",
       "    .dataframe tbody tr th:only-of-type {\n",
       "        vertical-align: middle;\n",
       "    }\n",
       "\n",
       "    .dataframe tbody tr th {\n",
       "        vertical-align: top;\n",
       "    }\n",
       "\n",
       "    .dataframe thead th {\n",
       "        text-align: right;\n",
       "    }\n",
       "</style>\n",
       "<table border=\"1\" class=\"dataframe\">\n",
       "  <thead>\n",
       "    <tr style=\"text-align: right;\">\n",
       "      <th></th>\n",
       "      <th>rev_id</th>\n",
       "      <th>comment</th>\n",
       "      <th>year</th>\n",
       "      <th>logged_in</th>\n",
       "      <th>ns</th>\n",
       "      <th>sample</th>\n",
       "      <th>split</th>\n",
       "      <th>attack</th>\n",
       "    </tr>\n",
       "  </thead>\n",
       "  <tbody>\n",
       "    <tr>\n",
       "      <th>0</th>\n",
       "      <td>37675</td>\n",
       "      <td>\"- This is not \"\"creative\"\".  Those are the di...</td>\n",
       "      <td>2002</td>\n",
       "      <td>False</td>\n",
       "      <td>article</td>\n",
       "      <td>random</td>\n",
       "      <td>train</td>\n",
       "      <td>0.0</td>\n",
       "    </tr>\n",
       "    <tr>\n",
       "      <th>1</th>\n",
       "      <td>44816</td>\n",
       "      <td>\"  :: the term \"\"standard model\"\" is itself le...</td>\n",
       "      <td>2002</td>\n",
       "      <td>False</td>\n",
       "      <td>article</td>\n",
       "      <td>random</td>\n",
       "      <td>train</td>\n",
       "      <td>0.0</td>\n",
       "    </tr>\n",
       "    <tr>\n",
       "      <th>2</th>\n",
       "      <td>49851</td>\n",
       "      <td>True or false, the situation as of March 200...</td>\n",
       "      <td>2002</td>\n",
       "      <td>False</td>\n",
       "      <td>article</td>\n",
       "      <td>random</td>\n",
       "      <td>train</td>\n",
       "      <td>0.0</td>\n",
       "    </tr>\n",
       "    <tr>\n",
       "      <th>3</th>\n",
       "      <td>93890</td>\n",
       "      <td>This page will need disambiguation.</td>\n",
       "      <td>2002</td>\n",
       "      <td>True</td>\n",
       "      <td>article</td>\n",
       "      <td>random</td>\n",
       "      <td>train</td>\n",
       "      <td>0.0</td>\n",
       "    </tr>\n",
       "    <tr>\n",
       "      <th>4</th>\n",
       "      <td>102817</td>\n",
       "      <td>-  Important note for all sysops: There is a ...</td>\n",
       "      <td>2002</td>\n",
       "      <td>True</td>\n",
       "      <td>user</td>\n",
       "      <td>random</td>\n",
       "      <td>train</td>\n",
       "      <td>0.0</td>\n",
       "    </tr>\n",
       "  </tbody>\n",
       "</table>\n",
       "</div>"
      ],
      "text/plain": [
       "   rev_id                                            comment  year  logged_in  \\\n",
       "0   37675  \"- This is not \"\"creative\"\".  Those are the di...  2002      False   \n",
       "1   44816  \"  :: the term \"\"standard model\"\" is itself le...  2002      False   \n",
       "2   49851    True or false, the situation as of March 200...  2002      False   \n",
       "3   93890               This page will need disambiguation.   2002       True   \n",
       "4  102817   -  Important note for all sysops: There is a ...  2002       True   \n",
       "\n",
       "        ns  sample  split  attack  \n",
       "0  article  random  train     0.0  \n",
       "1  article  random  train     0.0  \n",
       "2  article  random  train     0.0  \n",
       "3  article  random  train     0.0  \n",
       "4     user  random  train     0.0  "
      ]
     },
     "execution_count": 33,
     "metadata": {},
     "output_type": "execute_result"
    }
   ],
   "source": [
    "raw_samples.head()"
   ]
  },
  {
   "cell_type": "markdown",
   "metadata": {},
   "source": [
    "To train a binary classifer (harassment or not) we need to pick a cut-off: how high an \"attack\" value is too high?  Sometimes a histogram can help us decide. Where should we make the cut-off?  We can see that the value of 0.4 chosen for the article excludes a lot of comments."
   ]
  },
  {
   "cell_type": "code",
   "execution_count": 55,
   "metadata": {},
   "outputs": [
    {
     "data": {
      "text/plain": [
       "Text(0.5,0,'Attack probability')"
      ]
     },
     "execution_count": 55,
     "metadata": {},
     "output_type": "execute_result"
    },
    {
     "data": {
      "image/png": "[encoded data removed]",
      "text/plain": [
       "<matplotlib.figure.Figure at 0x7f2542ad66a0>"
      ]
     },
     "metadata": {},
     "output_type": "display_data"
    }
   ],
   "source": [
    "raw_samples[\"attack\"].plot.hist(bins=20)\n",
    "plt.xlabel(\"Attack probability\")"
   ]
  },
  {
   "cell_type": "markdown",
   "metadata": {},
   "source": [
    "We make our labels by turning our attack variable into a binary label..."
   ]
  },
  {
   "cell_type": "code",
   "execution_count": 35,
   "metadata": {},
   "outputs": [
    {
     "name": "stdout",
     "output_type": "stream",
     "text": [
      "We have 10201 examples of attacks and 59325 examples of benign comments\n"
     ]
    }
   ],
   "source": [
    "labels = raw_samples[\"attack\"] > 0.4\n",
    "num_true = len(labels[labels == True])\n",
    "num_false = len(labels[labels == False])\n",
    "print(\"We have \" + str(num_true) + \" examples of attacks and \" + str(num_false) + \" examples of benign comments\")"
   ]
  },
  {
   "cell_type": "markdown",
   "metadata": {},
   "source": [
    "Let's split out dataset into two parts - one to train our model, and one to evaluate it afterwards.  We'll use random selection to split into 80% train, 20% test."
   ]
  },
  {
   "cell_type": "code",
   "execution_count": 36,
   "metadata": {},
   "outputs": [],
   "source": [
    "import numpy as np\n",
    "\n",
    "train_mask = np.random.rand(X.shape[0]) < 0.8\n",
    "train_X = X[train_mask]\n",
    "train_Y = labels[train_mask]\n",
    "test_X = X[~train_mask]\n",
    "test_Y = labels[~train_mask]"
   ]
  },
  {
   "cell_type": "markdown",
   "metadata": {},
   "source": [
    "Now we can finally train and evaluate a model!"
   ]
  },
  {
   "cell_type": "code",
   "execution_count": 37,
   "metadata": {},
   "outputs": [],
   "source": [
    "from sklearn import linear_model\n",
    "\n",
    "logreg = linear_model.LogisticRegression(C=1e5)\n",
    "logreg.fit(train_X, train_Y)\n",
    "\n",
    "Y_hat = logreg.predict(test_X)"
   ]
  },
  {
   "cell_type": "markdown",
   "metadata": {},
   "source": [
    "How good is the model?  That is hard to capture in a single number, so we'll use a few different metrics."
   ]
  },
  {
   "cell_type": "code",
   "execution_count": 38,
   "metadata": {},
   "outputs": [
    {
     "name": "stdout",
     "output_type": "stream",
     "text": [
      "             precision    recall  f1-score   support\n",
      "\n",
      "      False       0.93      0.93      0.93     11952\n",
      "       True       0.60      0.61      0.60      2002\n",
      "\n",
      "avg / total       0.89      0.88      0.88     13954\n",
      "\n",
      "Binary cross entropy:0.013956290676745055\n"
     ]
    }
   ],
   "source": [
    "from sklearn.metrics import precision_score, recall_score, accuracy_score, log_loss, classification_report\n",
    "\n",
    "def evaluate_model(mdl, test_X, test_Y, has_proba=False):\n",
    "    Y_hat = mdl.predict(test_X)\n",
    "    precision = precision_score(test_Y, Y_hat)\n",
    "    recall = recall_score(test_Y, Y_hat)\n",
    "    accuracy = accuracy_score(test_Y, Y_hat)\n",
    "\n",
    "    print(classification_report(test_Y, Y_hat))\n",
    "    if has_proba == True:\n",
    "        binary_cross_entropy = log_loss(Y_hat, mdl.predict_proba(test_X))\n",
    "        print(\"Binary cross entropy:\" + str(binary_cross_entropy))    \n",
    "        \n",
    "    #print(\"Precision:\" + str(precision))\n",
    "    #print(\"Recall:\" + str(recall))\n",
    "    #print(\"Accuracy:\" + str(accuracy))\n",
    "\n",
    "evaluate_model(logreg, test_X, test_Y, True)\n"
   ]
  },
  {
   "cell_type": "code",
   "execution_count": 41,
   "metadata": {},
   "outputs": [
    {
     "name": "stdout",
     "output_type": "stream",
     "text": [
      "             precision    recall  f1-score   support\n",
      "\n",
      "      False       0.90      1.00      0.95     11952\n",
      "       True       0.94      0.37      0.53      2002\n",
      "\n",
      "avg / total       0.91      0.91      0.89     13954\n",
      "\n"
     ]
    },
    {
     "name": "stderr",
     "output_type": "stream",
     "text": [
      "/home/ed/miniconda3/envs/idp/lib/python3.6/site-packages/sklearn/preprocessing/label.py:151: DeprecationWarning: The truth value of an empty array is ambiguous. Returning False, but in future this will result in an error. Use `array.size > 0` to check that an array is not empty.\n",
      "  if diff:\n"
     ]
    }
   ],
   "source": [
    "import xgboost as xgb\n",
    "    \n",
    "    \n",
    "xgb_model = xgb.XGBClassifier(n_jobs=4)\n",
    "xgb_model.fit(train_X, train_Y)\n",
    "\n",
    "evaluate_model(xgb_model, test_X, test_Y, False)"
   ]
  },
  {
   "cell_type": "markdown",
   "metadata": {},
   "source": [
    "Is that the best we can do with decision trees?  Let's do a little fine-tuning:"
   ]
  },
  {
   "cell_type": "code",
   "execution_count": 42,
   "metadata": {},
   "outputs": [],
   "source": [
    "from sklearn.model_selection import KFold, train_test_split, GridSearchCV\n",
    "import pickle \n",
    "clf = GridSearchCV(xgb_model,{'max_depth': [2,4,6],'n_estimators': [5,10,20]}, verbose=1)\n",
    "#clf.fit(train_X,train_Y)\n",
    "\n",
    "#print(\"Lowest loss: \" + str(clf.best_score_) + \"\\n\")\n",
    "#print(clf.best_params_)\n",
    "\n",
    "#print(\"Saving best model to best_xgb.mdl\\n\")\n",
    "#pickle.dump(clf.best_estimator_, open(\"best_xgb.mdl\", \"wb\"))"
   ]
  },
  {
   "cell_type": "code",
   "execution_count": null,
   "metadata": {},
   "outputs": [],
   "source": [
    "#evaluate_model(clf.best_estimator_, test_X, test_Y, True)"
   ]
  },
  {
   "cell_type": "markdown",
   "metadata": {},
   "source": [
    "Time to try our classifiers on another dataset (Reddit). To smooth the processing of new text inputs, we'll create a \"pipeline\" that encapsulates all the pre-processing we need to do."
   ]
  },
  {
   "cell_type": "code",
   "execution_count": 44,
   "metadata": {},
   "outputs": [],
   "source": [
    "from sklearn.pipeline import Pipeline\n",
    "text_clf = Pipeline([('vect', vectorizer),\n",
    "                      ('tfidf', tfidf_transformer),\n",
    "                      ('clf', xgb_model)])"
   ]
  },
  {
   "cell_type": "markdown",
   "metadata": {},
   "source": [
    "Now we need to open the data.  The comments are stored in JSON format, and have been organized by subreddit.  For now, let's concentrate on two particular subreddits - \"Rangers\" (ice hockey) and \"Personal finance\" (what it sounds like)."
   ]
  },
  {
   "cell_type": "code",
   "execution_count": 45,
   "metadata": {},
   "outputs": [],
   "source": [
    "import json\n",
    "\n",
    "reddit_comments = None\n",
    "with open(\"comments_by_reddit.json\") as fh:\n",
    "    reddit_comments = json.load(fh)\n",
    "\n",
    "rangers = reddit_comments[\"rangers\"]\n",
    "personal_finance = reddit_comments[\"personalfinance\"]"
   ]
  },
  {
   "cell_type": "markdown",
   "metadata": {},
   "source": [
    "Now that we have two lists of comments to work with, we can try doing some classification..."
   ]
  },
  {
   "cell_type": "code",
   "execution_count": 46,
   "metadata": {},
   "outputs": [],
   "source": [
    "def create_results_table(list_of_comments, model):\n",
    "    is_attack = model.predict_proba(list_of_comments)[:,1]\n",
    "    \n",
    "    data = {\"attack_probability\": is_attack, \"comment\": list_of_comments}\n",
    "    df_result = pd.DataFrame(data)\n",
    "    df_result = df_result.sort_values(by='attack_probability', ascending=False)\n",
    "    \n",
    "    return (df_result)\n",
    "    \n",
    "df_rangers = create_results_table(rangers, text_clf)"
   ]
  },
  {
   "cell_type": "markdown",
   "metadata": {},
   "source": [
    "Now we have a sorted dataframe, we can look at some of the most \"attacking\" comments, as rated by our model..."
   ]
  },
  {
   "cell_type": "code",
   "execution_count": 47,
   "metadata": {},
   "outputs": [
    {
     "data": {
      "text/html": [
       "<table border=\"1\" class=\"dataframe\">\n",
       "  <thead>\n",
       "    <tr style=\"text-align: right;\">\n",
       "      <th>attack_probability</th>\n",
       "      <th>comment</th>\n",
       "    </tr>\n",
       "  </thead>\n",
       "  <tbody>\n",
       "    <tr>\n",
       "      <td>0.99</td>\n",
       "      <td>How do you hop on the guys dick that just got fucking wrecked by kreiders skill skating? that confuses the fuck out of me</td>\n",
       "    </tr>\n",
       "    <tr>\n",
       "      <td>0.97</td>\n",
       "      <td>Stop fucking passing it in the slot. holy fuck</td>\n",
       "    </tr>\n",
       "    <tr>\n",
       "      <td>0.96</td>\n",
       "      <td>jesus fuck just put it on the fucking net</td>\n",
       "    </tr>\n",
       "    <tr>\n",
       "      <td>0.94</td>\n",
       "      <td>One thing we have to do in this series. ONE FUCKING THING. STAY OFF THE GOD DAMN PENALTY KILL</td>\n",
       "    </tr>\n",
       "    <tr>\n",
       "      <td>0.94</td>\n",
       "      <td>It's the same fucking spot every goddamn fucking time. how can no one stop that fucker. goddammit grandpa boyle</td>\n",
       "    </tr>\n",
       "    <tr>\n",
       "      <td>0.93</td>\n",
       "      <td>shut the fuck up pierre.</td>\n",
       "    </tr>\n",
       "    <tr>\n",
       "      <td>0.93</td>\n",
       "      <td>holy fucking shit</td>\n",
       "    </tr>\n",
       "    <tr>\n",
       "      <td>0.92</td>\n",
       "      <td>fuck you pierre! god damn, that just doesnt look the same without the capslock</td>\n",
       "    </tr>\n",
       "    <tr>\n",
       "      <td>0.91</td>\n",
       "      <td>holy shit was that a frustrating period. can't connect on passes, can't control the puck, players look like they're half asleep and hungover from the pitt series. msg is quiet as fuck. \\n\\nwe just don't want it yet. hope av has some words of wisdom for the period break.</td>\n",
       "    </tr>\n",
       "    <tr>\n",
       "      <td>0.91</td>\n",
       "      <td>our handle is amazingly bad this game. every time we skate with the puck we lose it because of some stupid ass mishandle. very frustrating to watch</td>\n",
       "    </tr>\n",
       "  </tbody>\n",
       "</table>"
      ],
      "text/plain": [
       "<IPython.core.display.HTML object>"
      ]
     },
     "metadata": {},
     "output_type": "display_data"
    }
   ],
   "source": [
    "from IPython.display import display, HTML\n",
    "\n",
    "def print_table(df):\n",
    "    pd.set_option('max_colwidth', 300)\n",
    "    pd.options.display.float_format = '{:,.2f}'.format\n",
    "    display(HTML(df.to_html(index=False)))\n",
    "\n",
    "print_table(df_rangers.head(n=10))"
   ]
  },
  {
   "cell_type": "markdown",
   "metadata": {},
   "source": [
    "What about the least?"
   ]
  },
  {
   "cell_type": "code",
   "execution_count": 48,
   "metadata": {},
   "outputs": [
    {
     "data": {
      "text/html": [
       "<table border=\"1\" class=\"dataframe\">\n",
       "  <thead>\n",
       "    <tr style=\"text-align: right;\">\n",
       "      <th>attack_probability</th>\n",
       "      <th>comment</th>\n",
       "    </tr>\n",
       "  </thead>\n",
       "  <tbody>\n",
       "    <tr>\n",
       "      <td>0.11</td>\n",
       "      <td>Who is announcing the game, his style seems to be just calling out names. Not a fan.</td>\n",
       "    </tr>\n",
       "    <tr>\n",
       "      <td>0.11</td>\n",
       "      <td>This guy rules. http://imgur.com/ktGj08v</td>\n",
       "    </tr>\n",
       "    <tr>\n",
       "      <td>0.11</td>\n",
       "      <td>no goalie ever seems to make that save... so frustrating.</td>\n",
       "    </tr>\n",
       "    <tr>\n",
       "      <td>0.11</td>\n",
       "      <td>They will come out flying.  Av is going to perform more mystical coaching voodoo, you just wait....\\n  \\nAlso Hank will give them that disapproving look that makes men ashamed and strive for excellence.</td>\n",
       "    </tr>\n",
       "    <tr>\n",
       "      <td>0.11</td>\n",
       "      <td>those don't look like the type of people who would be ordering two feet of pizza</td>\n",
       "    </tr>\n",
       "    <tr>\n",
       "      <td>0.11</td>\n",
       "      <td>we defiantly deserved a goal this period</td>\n",
       "    </tr>\n",
       "    <tr>\n",
       "      <td>0.11</td>\n",
       "      <td>Dan boyle, the words I have for you ... dear god they aren't pretty.</td>\n",
       "    </tr>\n",
       "    <tr>\n",
       "      <td>0.10</td>\n",
       "      <td>thank you nbcsn... it is possible to fall asleep in your chair during playoff hockey. is it too much to ask from maybe a little tiny bit of excitement from your broadcast? maybe we should get gary thorn to do nantz impressions.</td>\n",
       "    </tr>\n",
       "    <tr>\n",
       "      <td>0.08</td>\n",
       "      <td>thanks!</td>\n",
       "    </tr>\n",
       "    <tr>\n",
       "      <td>0.07</td>\n",
       "      <td>you can hear the lgr ranger's chant trying to start from the 300s section</td>\n",
       "    </tr>\n",
       "  </tbody>\n",
       "</table>"
      ],
      "text/plain": [
       "<IPython.core.display.HTML object>"
      ]
     },
     "metadata": {},
     "output_type": "display_data"
    }
   ],
   "source": [
    "print_table(df_rangers.tail(n=10))"
   ]
  },
  {
   "cell_type": "markdown",
   "metadata": {},
   "source": [
    "For comparison, let's look at personal finance, nastiest first:"
   ]
  },
  {
   "cell_type": "code",
   "execution_count": 49,
   "metadata": {},
   "outputs": [
    {
     "data": {
      "text/html": [
       "<table border=\"1\" class=\"dataframe\">\n",
       "  <thead>\n",
       "    <tr style=\"text-align: right;\">\n",
       "      <th>attack_probability</th>\n",
       "      <th>comment</th>\n",
       "    </tr>\n",
       "  </thead>\n",
       "  <tbody>\n",
       "    <tr>\n",
       "      <td>0.87</td>\n",
       "      <td>18% car loan? What the fuck. Do you never pay your debts or did you just sign a loan without looking at the fine print?</td>\n",
       "    </tr>\n",
       "    <tr>\n",
       "      <td>0.66</td>\n",
       "      <td>Definitely junk food gotta go grocery shopping and use coupons. apply for help from the state, get food stamps. Its always the junk food that costs the most. The average wages life sucks ass and has plenty of paperwork to stay comfortable.</td>\n",
       "    </tr>\n",
       "    <tr>\n",
       "      <td>0.50</td>\n",
       "      <td>I used to have very bad anxiety. I went and talked to a physiologist who made me realise no one else actually gives a shit about what I do so why should I worry. Getting help is the best thing.</td>\n",
       "    </tr>\n",
       "    <tr>\n",
       "      <td>0.45</td>\n",
       "      <td>Realistically, most of the regular, reliable audio engineer gigs out there are for megachurches. Unless the congregation &amp;gt;10k every sunday, they don't pay shit. \\n\\nYou might score the odd recording gig or maybe doing the tech behind indie film scoring or folio work, but other than that there...</td>\n",
       "    </tr>\n",
       "    <tr>\n",
       "      <td>0.36</td>\n",
       "      <td>jpoysti bought two jet skis, a Martin guitar, and week-long trip to Hawaii with the $15,000 he saved by buying a $10,000 car instead of a $25,000 car.  He had $6,000 left over.\\n\\nHe took that $6,000 invested in for 30 years at 5% and now it's worth $34,000 - which allowed him to retire 5 months...</td>\n",
       "    </tr>\n",
       "    <tr>\n",
       "      <td>0.36</td>\n",
       "      <td>Just be careful about food. I justified moving out as being cheaper because splitting the rent 4 ways and no expensive-ass meal plan meant a big chunk of savings. However, with house-mates never keeping the kitchen clean, and not having a lot of confidence or experience cooking even basic meals,...</td>\n",
       "    </tr>\n",
       "    <tr>\n",
       "      <td>0.25</td>\n",
       "      <td>And I probably hate yours :)</td>\n",
       "    </tr>\n",
       "    <tr>\n",
       "      <td>0.21</td>\n",
       "      <td>It's a lot more complicated than just living there for a year or two.  You need to transfer your whole life over and make enough money to support yourself for that time.\\n\\nhttp://registrar.berkeley.edu/establish.html?no_server_init</td>\n",
       "    </tr>\n",
       "    <tr>\n",
       "      <td>0.21</td>\n",
       "      <td>I dont understand either. It's like the apex of your life is working that job, for real? I can kind of understand if it's your own company because then you get into your personal legacy which some care about but if it's someone else's name on the building I don't understand how people get so obs...</td>\n",
       "    </tr>\n",
       "    <tr>\n",
       "      <td>0.20</td>\n",
       "      <td>From a lot of reading I've done on LinkedIn and other employer/business sites, almost all employers will actually give you a higher salary temporarily if you try to force them to give you a raise and then immediately start looking for your replacement. It's kind of a damned if you do, damned if ...</td>\n",
       "    </tr>\n",
       "  </tbody>\n",
       "</table>"
      ],
      "text/plain": [
       "<IPython.core.display.HTML object>"
      ]
     },
     "metadata": {},
     "output_type": "display_data"
    }
   ],
   "source": [
    "df_personal_finance = create_results_table(personal_finance, text_clf)\n",
    "print_table(df_personal_finance.head(n=10))"
   ]
  },
  {
   "cell_type": "markdown",
   "metadata": {},
   "source": [
    "And the nicest?"
   ]
  },
  {
   "cell_type": "code",
   "execution_count": 50,
   "metadata": {},
   "outputs": [
    {
     "data": {
      "text/html": [
       "<table border=\"1\" class=\"dataframe\">\n",
       "  <thead>\n",
       "    <tr style=\"text-align: right;\">\n",
       "      <th>attack_probability</th>\n",
       "      <th>comment</th>\n",
       "    </tr>\n",
       "  </thead>\n",
       "  <tbody>\n",
       "    <tr>\n",
       "      <td>0.10</td>\n",
       "      <td>The trickiest parts I've found with self check out: bringing your own reusable bags, buying produce, buying marked down items, and buying alcohol/restricted items.\\n\\nThere's some simple steps to avoid issues with these, but mainly,  figuring out produce was the hard one for me.  If it doesn't h...</td>\n",
       "    </tr>\n",
       "    <tr>\n",
       "      <td>0.09</td>\n",
       "      <td>I actually used to suffer from this. I still do, especially when clothes shopping. Too many options. Between advertisements and staff asking you questions, it feels like a lot of pressure. What helped is education and exposure. \\n\\neducation: I knew what I was going in for when I would go it. Th...</td>\n",
       "    </tr>\n",
       "    <tr>\n",
       "      <td>0.08</td>\n",
       "      <td>I understand your point and my friend has raised this issue as well. I will be sure to keep it in mind.\\n\\nI am going to see how that works. I am about 10 min from my office and where I am working is pretty relaxed, so hopefully it will be doable. Thank you for the advice!</td>\n",
       "    </tr>\n",
       "    <tr>\n",
       "      <td>0.08</td>\n",
       "      <td>Agreed with Uptown. Luckily Dallas is starting the trolleys again in May and it runs right by my building, so I can go to Uptown for free. I'm not opposed to driving. Thank you for the info!</td>\n",
       "    </tr>\n",
       "    <tr>\n",
       "      <td>0.08</td>\n",
       "      <td>Lol you do raise a valid point. I do understand living in my means. \\n\\nSocal rents are ridiculous (grew up in HB), so I didn't think this was over the top for what I wanted. Thank you kind redditor! I will be visiting SoCal this summer, so please let me know if you want me to bring some water :)</td>\n",
       "    </tr>\n",
       "    <tr>\n",
       "      <td>0.08</td>\n",
       "      <td>Thanks for the replies.</td>\n",
       "    </tr>\n",
       "    <tr>\n",
       "      <td>0.08</td>\n",
       "      <td>ah, makes sense - thanks</td>\n",
       "    </tr>\n",
       "    <tr>\n",
       "      <td>0.08</td>\n",
       "      <td>Thanks!</td>\n",
       "    </tr>\n",
       "    <tr>\n",
       "      <td>0.08</td>\n",
       "      <td>/r/budgetfood mod here. thanks for the plug!</td>\n",
       "    </tr>\n",
       "    <tr>\n",
       "      <td>0.06</td>\n",
       "      <td>Just curious if you've looked at WiseBanyan. They were mentioned in a recent WSJ article about robo-advisors along with the commonly mentioned names.</td>\n",
       "    </tr>\n",
       "  </tbody>\n",
       "</table>"
      ],
      "text/plain": [
       "<IPython.core.display.HTML object>"
      ]
     },
     "metadata": {},
     "output_type": "display_data"
    }
   ],
   "source": [
    "print_table(df_personal_finance.tail(n=10))"
   ]
  },
  {
   "cell_type": "markdown",
   "metadata": {},
   "source": [
    "Hmm... maybe the model is over-relying on \"thanks\" and \"fuck\" and doesn't really get the context?  Let's test that idea!"
   ]
  },
  {
   "cell_type": "code",
   "execution_count": 51,
   "metadata": {},
   "outputs": [
    {
     "data": {
      "text/plain": [
       "0.68625534"
      ]
     },
     "execution_count": 51,
     "metadata": {},
     "output_type": "execute_result"
    }
   ],
   "source": [
    "text_clf.predict_proba([\"Reader, you fucking rock!  Thank you so much for buying my book!\"])[0][1]"
   ]
  },
  {
   "cell_type": "code",
   "execution_count": 52,
   "metadata": {},
   "outputs": [
    {
     "data": {
      "text/plain": [
       "Text(0.5,1,'Personal Finance')"
      ]
     },
     "execution_count": 52,
     "metadata": {},
     "output_type": "execute_result"
    },
    {
     "data": {
      "image/png": "[encoded data removed]",
      "text/plain": [
       "<matplotlib.figure.Figure at 0x7f2522a00ef0>"
      ]
     },
     "metadata": {},
     "output_type": "display_data"
    }
   ],
   "source": [
    "import pylab\n",
    "pylab.rcParams['figure.figsize'] = (12, 4)\n",
    "plt.subplot(1, 2, 1)\n",
    "plt.xlabel(\"Attack probability\")\n",
    "df_rangers[\"attack_probability\"].plot.hist()\n",
    "plt.title(\"Rangers\")\n",
    "plt.subplot(1, 2, 2)\n",
    "plt.xlabel(\"Attack probability\")\n",
    "df_personal_finance[\"attack_probability\"].plot.hist()\n",
    "plt.title(\"Personal Finance\")"
   ]
  },
  {
   "cell_type": "code",
   "execution_count": 54,
   "metadata": {},
   "outputs": [
    {
     "data": {
      "text/plain": [
       "Text(0.5,0,'Attack probability')"
      ]
     },
     "execution_count": 54,
     "metadata": {},
     "output_type": "execute_result"
    },
    {
     "data": {
      "image/png": "[encoded data removed]",
      "text/plain": [
       "<matplotlib.figure.Figure at 0x7f25238366a0>"
      ]
     },
     "metadata": {},
     "output_type": "display_data"
    }
   ],
   "source": [
    "df_personal_finance[\"attack_probability\"].plot.hist()\n",
    "plt.xlabel(\"Attack probability\")"
   ]
  },
  {
   "cell_type": "code",
   "execution_count": null,
   "metadata": {},
   "outputs": [],
   "source": []
  }
 ],
 "metadata": {
  "kernelspec": {
   "display_name": "Python 3",
   "language": "python",
   "name": "python3"
  },
  "language_info": {
   "codemirror_mode": {
    "name": "ipython",
    "version": 3
   },
   "file_extension": ".py",
   "mimetype": "text/x-python",
   "name": "python",
   "nbconvert_exporter": "python",
   "pygments_lexer": "ipython3",
   "version": "3.6.3"
  }
 },
 "nbformat": 4,
 "nbformat_minor": 2
}
